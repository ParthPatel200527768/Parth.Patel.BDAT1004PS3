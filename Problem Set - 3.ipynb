{
 "cells": [
  {
   "cell_type": "markdown",
   "id": "6ad226dc",
   "metadata": {},
   "source": [
    "Question 1\n",
    "\n",
    "Introduction:\n",
    "\n",
    "Special thanks to: https://github.com/justmarkham for sharing the dataset and materials.\n",
    "Occupations\n",
    "\n",
    "Step 1. Import the necessary libraries\n",
    "Step 2. Import the dataset from this address.\n",
    "Step 3. Assign it to a variable called users\n",
    "Step 4. Discover what is the mean age per occupation\n",
    "Step 5. Discover the Male ratio per occupation and sort it from the most to the least \n",
    "Step 6. For each occupation, calculate the minimum and maximum ages\n",
    "Step 7. For each combination of occupation and sex, calculate the mean age \n",
    "Step 8. For each occupation present the percentage of women and men"
   ]
  },
  {
   "cell_type": "code",
   "execution_count": 1,
   "id": "acd664cd",
   "metadata": {},
   "outputs": [],
   "source": [
    "# Step - 1, 2 & 3\n",
    "# Importing pandas library, dataset from the given address and assigning that address to the variable name 'users'.\n",
    "\n",
    "import pandas as pd\n",
    "\n",
    "url = \"https://raw.githubusercontent.com/justmarkham/DAT8/master/data/u.user\"\n",
    "users = pd.read_csv(url, sep=\"|\")"
   ]
  },
  {
   "cell_type": "code",
   "execution_count": 10,
   "id": "c11b516c",
   "metadata": {},
   "outputs": [
    {
     "name": "stdout",
     "output_type": "stream",
     "text": [
      "mean_age_by_occupation\n",
      "\n",
      " occupation\n",
      "administrator    38.746835\n",
      "artist           31.392857\n",
      "doctor           43.571429\n",
      "educator         42.010526\n",
      "engineer         36.388060\n",
      "entertainment    29.222222\n",
      "executive        38.718750\n",
      "healthcare       41.562500\n",
      "homemaker        32.571429\n",
      "lawyer           36.750000\n",
      "librarian        40.000000\n",
      "marketing        37.615385\n",
      "none             26.555556\n",
      "other            34.523810\n",
      "programmer       33.121212\n",
      "retired          63.071429\n",
      "salesman         35.666667\n",
      "scientist        35.548387\n",
      "student          22.081633\n",
      "technician       33.148148\n",
      "writer           36.311111\n",
      "Name: age, dtype: float64\n"
     ]
    }
   ],
   "source": [
    "# Step - 4\n",
    "# Disscovering the mean age per occupation\n",
    "\n",
    "mean_age_by_occupation = users.groupby(\"occupation\")[\"age\"].mean()\n",
    "print(\"mean_age_by_occupation\\n\\n\",mean_age_by_occupation)\n",
    "# print(\"\\n-------------------------------------------------------------------\\n\\n\")"
   ]
  },
  {
   "cell_type": "code",
   "execution_count": 11,
   "id": "f9f969c2",
   "metadata": {},
   "outputs": [
    {
     "name": "stdout",
     "output_type": "stream",
     "text": [
      "male_ratio_by_occupation\n",
      "\n",
      " occupation\n",
      "doctor           1.000000\n",
      "engineer         0.970149\n",
      "technician       0.962963\n",
      "retired          0.928571\n",
      "programmer       0.909091\n",
      "executive        0.906250\n",
      "scientist        0.903226\n",
      "entertainment    0.888889\n",
      "lawyer           0.833333\n",
      "salesman         0.750000\n",
      "educator         0.726316\n",
      "student          0.693878\n",
      "other            0.657143\n",
      "marketing        0.615385\n",
      "writer           0.577778\n",
      "none             0.555556\n",
      "administrator    0.544304\n",
      "artist           0.535714\n",
      "librarian        0.431373\n",
      "healthcare       0.312500\n",
      "homemaker        0.142857\n",
      "Name: gender, dtype: float64\n"
     ]
    }
   ],
   "source": [
    "#  Step - 5\n",
    "#  Discovering the Male ratio per occupation and sort it from the most to the least \n",
    "\n",
    "\n",
    "def male_ratio(series):\n",
    "    male_count = series.value_counts()[\"M\"]\n",
    "    total_count = series.count()\n",
    "    return male_count / total_count\n",
    "\n",
    "\n",
    "male_ratio_by_occupation = users.groupby(\"occupation\")[\"gender\"].apply(male_ratio)\n",
    "male_ratio_by_occupation = male_ratio_by_occupation.sort_values(ascending=False)\n",
    "print(\"male_ratio_by_occupation\\n\\n\", male_ratio_by_occupation)\n",
    "# print(\"\\n-------------------------------------------------------------------\\n\\n\")"
   ]
  },
  {
   "cell_type": "code",
   "execution_count": 12,
   "id": "b34af54e",
   "metadata": {},
   "outputs": [
    {
     "name": "stdout",
     "output_type": "stream",
     "text": [
      "age_range_by_occupation\n",
      "                min  max\n",
      "occupation             \n",
      "administrator   21   70\n",
      "artist          19   48\n",
      "doctor          28   64\n",
      "educator        23   63\n",
      "engineer        22   70\n",
      "entertainment   15   50\n",
      "executive       22   69\n",
      "healthcare      22   62\n",
      "homemaker       20   50\n",
      "lawyer          21   53\n",
      "librarian       23   69\n",
      "marketing       24   55\n",
      "none            11   55\n",
      "other           13   64\n",
      "programmer      20   63\n",
      "retired         51   73\n",
      "salesman        18   66\n",
      "scientist       23   55\n",
      "student          7   42\n",
      "technician      21   55\n",
      "writer          18   60\n"
     ]
    }
   ],
   "source": [
    "#  Step - 6\n",
    "#  For each occupation, calculate the minimum and maximum ages\n",
    "\n",
    "age_range_by_occupation = users.groupby(\"occupation\")[\"age\"].agg([\"min\", \"max\"])\n",
    "print(\"age_range_by_occupation\\n\", age_range_by_occupation)\n",
    "# print(\"\\n-------------------------------------------------------------------\\n\\n\")"
   ]
  },
  {
   "cell_type": "code",
   "execution_count": 15,
   "id": "97f79691",
   "metadata": {},
   "outputs": [
    {
     "name": "stdout",
     "output_type": "stream",
     "text": [
      "mean_age_by_occupation_and_sex\n",
      " occupation     gender\n",
      "administrator  F         40.638889\n",
      "               M         37.162791\n",
      "artist         F         30.307692\n",
      "               M         32.333333\n",
      "doctor         M         43.571429\n",
      "educator       F         39.115385\n",
      "               M         43.101449\n",
      "engineer       F         29.500000\n",
      "               M         36.600000\n",
      "entertainment  F         31.000000\n",
      "               M         29.000000\n",
      "executive      F         44.000000\n",
      "               M         38.172414\n",
      "healthcare     F         39.818182\n",
      "               M         45.400000\n",
      "homemaker      F         34.166667\n",
      "               M         23.000000\n",
      "lawyer         F         39.500000\n",
      "               M         36.200000\n",
      "librarian      F         40.000000\n",
      "               M         40.000000\n",
      "marketing      F         37.200000\n",
      "               M         37.875000\n",
      "none           F         36.500000\n",
      "               M         18.600000\n",
      "other          F         35.472222\n",
      "               M         34.028986\n",
      "programmer     F         32.166667\n",
      "               M         33.216667\n",
      "retired        F         70.000000\n",
      "               M         62.538462\n",
      "salesman       F         27.000000\n",
      "               M         38.555556\n",
      "scientist      F         28.333333\n",
      "               M         36.321429\n",
      "student        F         20.750000\n",
      "               M         22.669118\n",
      "technician     F         38.000000\n",
      "               M         32.961538\n",
      "writer         F         37.631579\n",
      "               M         35.346154\n",
      "Name: age, dtype: float64\n",
      "\n",
      "-------------------------------------------------------------------\n",
      "\n",
      "\n",
      "gender_percentages_by_occupation\n",
      " occupation      \n",
      "administrator  M     54.430380\n",
      "               F     45.569620\n",
      "artist         M     53.571429\n",
      "               F     46.428571\n",
      "doctor         M    100.000000\n",
      "educator       M     72.631579\n",
      "               F     27.368421\n",
      "engineer       M     97.014925\n",
      "               F      2.985075\n",
      "entertainment  M     88.888889\n",
      "               F     11.111111\n",
      "executive      M     90.625000\n",
      "               F      9.375000\n",
      "healthcare     F     68.750000\n",
      "               M     31.250000\n",
      "homemaker      F     85.714286\n",
      "               M     14.285714\n",
      "lawyer         M     83.333333\n",
      "               F     16.666667\n",
      "librarian      F     56.862745\n",
      "               M     43.137255\n",
      "marketing      M     61.538462\n",
      "               F     38.461538\n",
      "none           M     55.555556\n",
      "               F     44.444444\n",
      "other          M     65.714286\n",
      "               F     34.285714\n",
      "programmer     M     90.909091\n",
      "               F      9.090909\n",
      "retired        M     92.857143\n",
      "               F      7.142857\n",
      "salesman       M     75.000000\n",
      "               F     25.000000\n",
      "scientist      M     90.322581\n",
      "               F      9.677419\n",
      "student        M     69.387755\n",
      "               F     30.612245\n",
      "technician     M     96.296296\n",
      "               F      3.703704\n",
      "writer         M     57.777778\n",
      "               F     42.222222\n",
      "Name: gender, dtype: float64\n"
     ]
    }
   ],
   "source": [
    "#  Step - 7 & 8\n",
    "#  For each combination of occupation and sex, calculate the mean age and For each occupation present the percentage of women and men\n",
    "\n",
    "mean_age_by_occupation_and_sex = users.groupby([\"occupation\", \"gender\"])[\"age\"].mean()\n",
    "print(\"mean_age_by_occupation_and_sex\\n\", mean_age_by_occupation_and_sex)\n",
    "print(\"\\n-------------------------------------------------------------------\\n\\n\")\n",
    "\n",
    "\n",
    "# This is define the percentage of each occupation gender-wise\n",
    "def gender_percentages(series):\n",
    "    return series.value_counts(normalize=True) * 100\n",
    "\n",
    "gender_percentages_by_occupation = users.groupby(\"occupation\")[\"gender\"].apply(gender_percentages)\n",
    "print(\"gender_percentages_by_occupation\\n\", gender_percentages_by_occupation)"
   ]
  },
  {
   "cell_type": "markdown",
   "id": "bcd3c498",
   "metadata": {},
   "source": [
    "Question 2\n",
    "\n",
    "Euro Teams\n",
    "\n",
    "Step 1. Import the necessary libraries\n",
    "Step 2. Import the dataset from this address \n",
    "Step 3. Assign it to a variable called euro12 \n",
    "Step 4. Select only the Goal column\n",
    "Step 5. How many team participated in the Euro2012?\n",
    "Step 6. What is the number of columns in the dataset?\n",
    "Step 7. View only the columns Team, Yellow Cards and Red Cards and assign them to a dataframe called discipline\n",
    "Step 8. Sort the teams by Red Cards, then to Yellow Cards\n",
    "Step 9. Calculate the mean Yellow Cards given per Team\n",
    "Step 10. Filter teams that scored more than 6 goals\n",
    "Step 11. Select the teams that start with G\n",
    "Step 12. Select the first 7 columns\n",
    "Step 13. Select all columns except the last 3\n",
    "Step 14. Present only the Shooting Accuracy from England, Italy and Russia"
   ]
  },
  {
   "cell_type": "code",
   "execution_count": 19,
   "id": "95c41f30",
   "metadata": {},
   "outputs": [
    {
     "name": "stdout",
     "output_type": "stream",
     "text": [
      "goals\n",
      " 0      4\n",
      "1      4\n",
      "2      4\n",
      "3      5\n",
      "4      3\n",
      "5     10\n",
      "6      5\n",
      "7      6\n",
      "8      2\n",
      "9      2\n",
      "10     6\n",
      "11     1\n",
      "12     5\n",
      "13    12\n",
      "14     5\n",
      "15     2\n",
      "Name: Goals, dtype: int64\n",
      "\n",
      "-------------------------------------------------------------------\n",
      "\n",
      "\n",
      "number of teams\n",
      " 16\n",
      "\n",
      "-------------------------------------------------------------------\n",
      "\n",
      "\n",
      "number of columns\n",
      " 35\n",
      "\n",
      "-------------------------------------------------------------------\n",
      "\n"
     ]
    }
   ],
   "source": [
    "#  Step - 1,2 & 3\n",
    "#  Import the necessary libraries, Import the dataset from this address and Assign it to a variable called euro12\n",
    "\n",
    "import pandas as pd\n",
    "\n",
    "url = \"https://raw.githubusercontent.com/guipsamora/pandas_exercises/master/02_Filtering_%26_Sorting/Euro12/Euro_2012_stats_TEAM.csv\"\n",
    "euro12 = pd.read_csv(url)\n",
    "\n",
    "\n",
    "# Step - 4 Select only the Goal column\n",
    "\n",
    "goals = euro12[\"Goals\"]\n",
    "print(\"goals\\n\",goals)\n",
    "print(\"\\n-------------------------------------------------------------------\\n\\n\")\n",
    "\n",
    "\n",
    "# Step - 5 How many team participated in the Euro2012?\n",
    "\n",
    "num_teams = euro12[\"Team\"].nunique()\n",
    "print(\"number of teams\\n\",num_teams)\n",
    "print(\"\\n-------------------------------------------------------------------\\n\\n\")\n",
    "\n",
    "\n",
    "#  Step - 6 What is the number of columns in the dataset?\n",
    "\n",
    "num_columns = euro12.shape[1]\n",
    "print(\"number of columns\\n\",num_columns)\n",
    "print(\"\\n-------------------------------------------------------------------\\n\")"
   ]
  },
  {
   "cell_type": "code",
   "execution_count": 27,
   "id": "c186ae23",
   "metadata": {},
   "outputs": [
    {
     "name": "stdout",
     "output_type": "stream",
     "text": [
      "only Team, Yellow Card and Red Card columns\n",
      "                    Team  Yellow Cards  Red Cards\n",
      "0               Croatia             9          0\n",
      "1        Czech Republic             7          0\n",
      "2               Denmark             4          0\n",
      "3               England             5          0\n",
      "4                France             6          0\n",
      "5               Germany             4          0\n",
      "6                Greece             9          1\n",
      "7                 Italy            16          0\n",
      "8           Netherlands             5          0\n",
      "9                Poland             7          1\n",
      "10             Portugal            12          0\n",
      "11  Republic of Ireland             6          1\n",
      "12               Russia             6          0\n",
      "13                Spain            11          0\n",
      "14               Sweden             7          0\n",
      "15              Ukraine             5          0\n",
      "\n",
      "-------------------------------------------------------------------\n",
      "\n"
     ]
    }
   ],
   "source": [
    "# Step - 7\n",
    "# View only the columns Team, Yellow Cards and Red Cards and assign them to a dataframe called discipline.\n",
    "\n",
    "# creating the dataframe and naming it as 'discipline'.\n",
    "discipline = euro12[[\"Team\", \"Yellow Cards\", \"Red Cards\"]]\n",
    "print(\"only Team, Yellow Card and Red Card columns\\n\",discipline)\n",
    "print(\"\\n-------------------------------------------------------------------\\n\")"
   ]
  },
  {
   "cell_type": "code",
   "execution_count": 28,
   "id": "4b4f9091",
   "metadata": {},
   "outputs": [
    {
     "name": "stdout",
     "output_type": "stream",
     "text": [
      "Sort by Red Card and then by Yellow cards\n",
      "                    Team  Yellow Cards  Red Cards\n",
      "2               Denmark             4          0\n",
      "5               Germany             4          0\n",
      "3               England             5          0\n",
      "8           Netherlands             5          0\n",
      "15              Ukraine             5          0\n",
      "4                France             6          0\n",
      "12               Russia             6          0\n",
      "1        Czech Republic             7          0\n",
      "14               Sweden             7          0\n",
      "0               Croatia             9          0\n",
      "13                Spain            11          0\n",
      "10             Portugal            12          0\n",
      "7                 Italy            16          0\n",
      "11  Republic of Ireland             6          1\n",
      "9                Poland             7          1\n",
      "6                Greece             9          1\n",
      "\n",
      "-------------------------------------------------------------------\n",
      "\n"
     ]
    }
   ],
   "source": [
    "# Step - 8\n",
    "# Sort the teams by Red Cards, then to Yellow Cards \n",
    "\n",
    "discipline = discipline.sort_values([\"Red Cards\", \"Yellow Cards\"])\n",
    "print(\"Sort by Red Card and then by Yellow cards\\n\",discipline)\n",
    "print(\"\\n-------------------------------------------------------------------\\n\")"
   ]
  },
  {
   "cell_type": "code",
   "execution_count": 29,
   "id": "bab380a2",
   "metadata": {},
   "outputs": [
    {
     "name": "stdout",
     "output_type": "stream",
     "text": [
      "mean_yellow_cards\n",
      " 7.4375\n",
      "\n",
      "-------------------------------------------------------------------\n",
      "\n"
     ]
    }
   ],
   "source": [
    "# Step - 9 \n",
    "# Calculate the mean Yellow Cards given per Team\n",
    "\n",
    "# This will give the average value of teams got yellow card!\n",
    "mean_yellow_cards = euro12[\"Yellow Cards\"].mean()\n",
    "print(\"mean_yellow_cards\\n\",mean_yellow_cards)\n",
    "print(\"\\n-------------------------------------------------------------------\\n\")"
   ]
  },
  {
   "cell_type": "code",
   "execution_count": 30,
   "id": "aa93e719",
   "metadata": {},
   "outputs": [
    {
     "name": "stdout",
     "output_type": "stream",
     "text": [
      "high_scoring_teams\n",
      "        Team  Goals  Shots on target  Shots off target Shooting Accuracy  \\\n",
      "5   Germany     10               32                32             47.8%   \n",
      "13    Spain     12               42                33             55.9%   \n",
      "\n",
      "   % Goals-to-shots  Total shots (inc. Blocked)  Hit Woodwork  Penalty goals  \\\n",
      "5             15.6%                          80             2              1   \n",
      "13            16.0%                         100             0              1   \n",
      "\n",
      "    Penalties not scored  ...  Saves made  Saves-to-shots ratio  Fouls Won  \\\n",
      "5                      0  ...          10                 62.6%         63   \n",
      "13                     0  ...          15                 93.8%        102   \n",
      "\n",
      "   Fouls Conceded  Offsides  Yellow Cards  Red Cards  Subs on  Subs off  \\\n",
      "5              49        12             4          0       15        15   \n",
      "13             83        19            11          0       17        17   \n",
      "\n",
      "    Players Used  \n",
      "5             17  \n",
      "13            18  \n",
      "\n",
      "[2 rows x 35 columns]\n",
      "\n",
      "-------------------------------------------------------------------\n",
      "\n"
     ]
    }
   ],
   "source": [
    "# Step - 10 \n",
    "# Filter teams that scored more than 6 goals\n",
    "\n",
    "high_scoring_teams = euro12[euro12[\"Goals\"] > 6]\n",
    "print(\"high_scoring_teams\\n\",high_scoring_teams)\n",
    "print(\"\\n-------------------------------------------------------------------\\n\")\n"
   ]
  },
  {
   "cell_type": "code",
   "execution_count": 31,
   "id": "54f9499a",
   "metadata": {},
   "outputs": [
    {
     "name": "stdout",
     "output_type": "stream",
     "text": [
      "teams_starting_with_G\n",
      "       Team  Goals  Shots on target  Shots off target Shooting Accuracy  \\\n",
      "5  Germany     10               32                32             47.8%   \n",
      "6   Greece      5                8                18             30.7%   \n",
      "\n",
      "  % Goals-to-shots  Total shots (inc. Blocked)  Hit Woodwork  Penalty goals  \\\n",
      "5            15.6%                          80             2              1   \n",
      "6            19.2%                          32             1              1   \n",
      "\n",
      "   Penalties not scored  ...  Saves made  Saves-to-shots ratio  Fouls Won  \\\n",
      "5                     0  ...          10                 62.6%         63   \n",
      "6                     1  ...          13                 65.1%         67   \n",
      "\n",
      "  Fouls Conceded  Offsides  Yellow Cards  Red Cards  Subs on  Subs off  \\\n",
      "5             49        12             4          0       15        15   \n",
      "6             48        12             9          1       12        12   \n",
      "\n",
      "   Players Used  \n",
      "5            17  \n",
      "6            20  \n",
      "\n",
      "[2 rows x 35 columns]\n",
      "\n",
      "-------------------------------------------------------------------\n",
      "\n"
     ]
    }
   ],
   "source": [
    "# Step - 11\n",
    "# Select the teams that start with G\n",
    "\n",
    "#  Fetching the data of the team whose name starts with 'G'\n",
    "\n",
    "teams_starting_with_G = euro12[euro12[\"Team\"].str.startswith(\"G\")]\n",
    "print(\"teams_starting_with_G\\n\",teams_starting_with_G)\n",
    "print(\"\\n-------------------------------------------------------------------\\n\")"
   ]
  },
  {
   "cell_type": "code",
   "execution_count": 32,
   "id": "77e7614b",
   "metadata": {},
   "outputs": [
    {
     "name": "stdout",
     "output_type": "stream",
     "text": [
      "first_7_columns\n",
      "                    Team  Goals  Shots on target  Shots off target  \\\n",
      "0               Croatia      4               13                12   \n",
      "1        Czech Republic      4               13                18   \n",
      "2               Denmark      4               10                10   \n",
      "3               England      5               11                18   \n",
      "4                France      3               22                24   \n",
      "5               Germany     10               32                32   \n",
      "6                Greece      5                8                18   \n",
      "7                 Italy      6               34                45   \n",
      "8           Netherlands      2               12                36   \n",
      "9                Poland      2               15                23   \n",
      "10             Portugal      6               22                42   \n",
      "11  Republic of Ireland      1                7                12   \n",
      "12               Russia      5                9                31   \n",
      "13                Spain     12               42                33   \n",
      "14               Sweden      5               17                19   \n",
      "15              Ukraine      2                7                26   \n",
      "\n",
      "   Shooting Accuracy % Goals-to-shots  Total shots (inc. Blocked)  \n",
      "0              51.9%            16.0%                          32  \n",
      "1              41.9%            12.9%                          39  \n",
      "2              50.0%            20.0%                          27  \n",
      "3              50.0%            17.2%                          40  \n",
      "4              37.9%             6.5%                          65  \n",
      "5              47.8%            15.6%                          80  \n",
      "6              30.7%            19.2%                          32  \n",
      "7              43.0%             7.5%                         110  \n",
      "8              25.0%             4.1%                          60  \n",
      "9              39.4%             5.2%                          48  \n",
      "10             34.3%             9.3%                          82  \n",
      "11             36.8%             5.2%                          28  \n",
      "12             22.5%            12.5%                          59  \n",
      "13             55.9%            16.0%                         100  \n",
      "14             47.2%            13.8%                          39  \n",
      "15             21.2%             6.0%                          38  \n",
      "\n",
      "-------------------------------------------------------------------\n",
      "\n",
      "\n"
     ]
    }
   ],
   "source": [
    "# Step - 12\n",
    "# Select the first 7 columns\n",
    "\n",
    "first_7_columns = euro12.iloc[:, :7]\n",
    "print(\"first_7_columns\\n\",first_7_columns)\n",
    "print(\"\\n-------------------------------------------------------------------\\n\\n\")"
   ]
  },
  {
   "cell_type": "code",
   "execution_count": 33,
   "id": "438eedf0",
   "metadata": {},
   "outputs": [
    {
     "name": "stdout",
     "output_type": "stream",
     "text": [
      "all_columns_except_last_3\n",
      "                    Team  Goals  Shots on target  Shots off target  \\\n",
      "0               Croatia      4               13                12   \n",
      "1        Czech Republic      4               13                18   \n",
      "2               Denmark      4               10                10   \n",
      "3               England      5               11                18   \n",
      "4                France      3               22                24   \n",
      "5               Germany     10               32                32   \n",
      "6                Greece      5                8                18   \n",
      "7                 Italy      6               34                45   \n",
      "8           Netherlands      2               12                36   \n",
      "9                Poland      2               15                23   \n",
      "10             Portugal      6               22                42   \n",
      "11  Republic of Ireland      1                7                12   \n",
      "12               Russia      5                9                31   \n",
      "13                Spain     12               42                33   \n",
      "14               Sweden      5               17                19   \n",
      "15              Ukraine      2                7                26   \n",
      "\n",
      "   Shooting Accuracy % Goals-to-shots  Total shots (inc. Blocked)  \\\n",
      "0              51.9%            16.0%                          32   \n",
      "1              41.9%            12.9%                          39   \n",
      "2              50.0%            20.0%                          27   \n",
      "3              50.0%            17.2%                          40   \n",
      "4              37.9%             6.5%                          65   \n",
      "5              47.8%            15.6%                          80   \n",
      "6              30.7%            19.2%                          32   \n",
      "7              43.0%             7.5%                         110   \n",
      "8              25.0%             4.1%                          60   \n",
      "9              39.4%             5.2%                          48   \n",
      "10             34.3%             9.3%                          82   \n",
      "11             36.8%             5.2%                          28   \n",
      "12             22.5%            12.5%                          59   \n",
      "13             55.9%            16.0%                         100   \n",
      "14             47.2%            13.8%                          39   \n",
      "15             21.2%             6.0%                          38   \n",
      "\n",
      "    Hit Woodwork  Penalty goals  Penalties not scored  ...  Clean Sheets  \\\n",
      "0              0              0                     0  ...             0   \n",
      "1              0              0                     0  ...             1   \n",
      "2              1              0                     0  ...             1   \n",
      "3              0              0                     0  ...             2   \n",
      "4              1              0                     0  ...             1   \n",
      "5              2              1                     0  ...             1   \n",
      "6              1              1                     1  ...             1   \n",
      "7              2              0                     0  ...             2   \n",
      "8              2              0                     0  ...             0   \n",
      "9              0              0                     0  ...             0   \n",
      "10             6              0                     0  ...             2   \n",
      "11             0              0                     0  ...             0   \n",
      "12             2              0                     0  ...             0   \n",
      "13             0              1                     0  ...             5   \n",
      "14             3              0                     0  ...             1   \n",
      "15             0              0                     0  ...             0   \n",
      "\n",
      "    Blocks  Goals conceded Saves made  Saves-to-shots ratio  Fouls Won  \\\n",
      "0       10               3         13                 81.3%         41   \n",
      "1       10               6          9                 60.1%         53   \n",
      "2       10               5         10                 66.7%         25   \n",
      "3       29               3         22                 88.1%         43   \n",
      "4        7               5          6                 54.6%         36   \n",
      "5       11               6         10                 62.6%         63   \n",
      "6       23               7         13                 65.1%         67   \n",
      "7       18               7         20                 74.1%        101   \n",
      "8        9               5         12                 70.6%         35   \n",
      "9        8               3          6                 66.7%         48   \n",
      "10      11               4         10                 71.5%         73   \n",
      "11      23               9         17                 65.4%         43   \n",
      "12       8               3         10                 77.0%         34   \n",
      "13       8               1         15                 93.8%        102   \n",
      "14      12               5          8                 61.6%         35   \n",
      "15       4               4         13                 76.5%         48   \n",
      "\n",
      "    Fouls Conceded  Offsides  Yellow Cards  Red Cards  \n",
      "0               62         2             9          0  \n",
      "1               73         8             7          0  \n",
      "2               38         8             4          0  \n",
      "3               45         6             5          0  \n",
      "4               51         5             6          0  \n",
      "5               49        12             4          0  \n",
      "6               48        12             9          1  \n",
      "7               89        16            16          0  \n",
      "8               30         3             5          0  \n",
      "9               56         3             7          1  \n",
      "10              90        10            12          0  \n",
      "11              51        11             6          1  \n",
      "12              43         4             6          0  \n",
      "13              83        19            11          0  \n",
      "14              51         7             7          0  \n",
      "15              31         4             5          0  \n",
      "\n",
      "[16 rows x 32 columns]\n",
      "\n",
      "-------------------------------------------------------------------\n",
      "\n"
     ]
    }
   ],
   "source": [
    "# Step - 13\n",
    "# Select all columns except the last 3\n",
    "all_columns_except_last_3 = euro12.iloc[:, :-3]\n",
    "print(\"all_columns_except_last_3\\n\",all_columns_except_last_3)\n",
    "print(\"\\n-------------------------------------------------------------------\\n\")"
   ]
  },
  {
   "cell_type": "code",
   "execution_count": 34,
   "id": "3ca96951",
   "metadata": {},
   "outputs": [
    {
     "name": "stdout",
     "output_type": "stream",
     "text": [
      "shooting_accuracy\n",
      "        Team Shooting Accuracy\n",
      "3   England             50.0%\n",
      "7     Italy             43.0%\n",
      "12   Russia             22.5%\n",
      "\n",
      "-------------------------------------------------------------------\n",
      "\n"
     ]
    }
   ],
   "source": [
    "# Step - 14 \n",
    "# Present only the Shooting Accuracy from England, Italy and Russia\n",
    "\n",
    "shooting_accuracy = euro12.loc[euro12[\"Team\"].isin([\"England\", \"Italy\", \"Russia\"]), [\"Team\", \"Shooting Accuracy\"]]\n",
    "print(\"shooting_accuracy\\n\",shooting_accuracy)\n",
    "print(\"\\n-------------------------------------------------------------------\\n\")"
   ]
  },
  {
   "cell_type": "markdown",
   "id": "1cc8cec0",
   "metadata": {},
   "source": [
    "Question 3\n",
    "\n",
    "Housing\n",
    "\n",
    "Step 1. Import the necessary libraries\n",
    "Step 2. Create 3 differents Series, each of length 100, as follows:\n",
    "• The first a random number from 1 to 4\n",
    "• The second a random number from 1 to 3\n",
    "• The third a random number from 10,000 to 30,000\n",
    "Step 3. Create a DataFrame by joinning the Series by column\n",
    "Step 4. Change the name of the columns to bedrs, bathrs, price_sqr_meter\n",
    "Step 5. Create a one column DataFrame with the values of the 3 Series and assign it to 'bigcolumn'\n",
    "Step 6. Ops it seems it is going only until index 99. Is it true?\n",
    "Step 7. Reindex the DataFrame so it goes from 0 to 299"
   ]
  },
  {
   "cell_type": "code",
   "execution_count": 1,
   "id": "a86cdf5d",
   "metadata": {},
   "outputs": [],
   "source": [
    "# Step - 1 \n",
    "# Import the necessary libraries\n",
    "\n",
    "import pandas as pd\n",
    "import numpy as np"
   ]
  },
  {
   "cell_type": "code",
   "execution_count": 2,
   "id": "8a2a5f9b",
   "metadata": {},
   "outputs": [],
   "source": [
    "# Step - 2 & 3 \n",
    "# Create 3 differents Series, each of length 100, as follows:\n",
    "# • The first a random number from 1 to 4\n",
    "# • The second a random number from 1 to 3\n",
    "# • The third a random number from 10,000 to 30,000\n",
    "\n",
    "series_1 = pd.Series(np.random.randint(1, 5, size=100))\n",
    "series_2 = pd.Series(np.random.randint(1, 4, size=100))\n",
    "series_3 = pd.Series(np.random.randint(10000, 30001, size=100))\n",
    "\n",
    "# Create a DataFrame by joinning the Series by column\n",
    "df = pd.concat([series_1, series_2, series_3], axis=1)"
   ]
  },
  {
   "cell_type": "code",
   "execution_count": 3,
   "id": "dac56dc7",
   "metadata": {},
   "outputs": [],
   "source": [
    "# Step - 4 \n",
    "# Change the name of the columns to bedrs, bathrs, price_sqr_meter\n",
    "\n",
    "df.columns = ['bedrs', 'bathrs', 'price_sqr_meter']"
   ]
  },
  {
   "cell_type": "code",
   "execution_count": 4,
   "id": "8d5df895",
   "metadata": {},
   "outputs": [],
   "source": [
    "# Step - 5\n",
    "# Create a one column DataFrame with the values of the 3 Series and assign it to 'bigcolumn'\n",
    "\n",
    "bigcolumn = pd.concat([series_1, series_2, series_3], axis=0, ignore_index=True)"
   ]
  },
  {
   "cell_type": "code",
   "execution_count": 5,
   "id": "2d31adc4",
   "metadata": {},
   "outputs": [
    {
     "name": "stdout",
     "output_type": "stream",
     "text": [
      "False\n",
      "0          4\n",
      "1          2\n",
      "2          1\n",
      "3          4\n",
      "4          3\n",
      "       ...  \n",
      "295    20258\n",
      "296    11561\n",
      "297    21770\n",
      "298    15530\n",
      "299    22802\n",
      "Length: 300, dtype: int32\n"
     ]
    }
   ],
   "source": [
    "# Step - 6\n",
    "# Ops it seems it is going only until index 99. Is it true?\n",
    "\n",
    "print(bigcolumn.index.max() == 99)\n",
    "print(bigcolumn)"
   ]
  },
  {
   "cell_type": "code",
   "execution_count": 6,
   "id": "7297a597",
   "metadata": {},
   "outputs": [
    {
     "name": "stdout",
     "output_type": "stream",
     "text": [
      "     bedrs  bathrs  price_sqr_meter\n",
      "0      4.0     2.0          13221.0\n",
      "1      2.0     1.0          23482.0\n",
      "2      1.0     3.0          24913.0\n",
      "3      4.0     3.0          16098.0\n",
      "4      3.0     2.0          14221.0\n",
      "..     ...     ...              ...\n",
      "295    NaN     NaN              NaN\n",
      "296    NaN     NaN              NaN\n",
      "297    NaN     NaN              NaN\n",
      "298    NaN     NaN              NaN\n",
      "299    NaN     NaN              NaN\n",
      "\n",
      "[300 rows x 3 columns]\n",
      "\n",
      "-------------------------------------------------------------------\n",
      "\n"
     ]
    }
   ],
   "source": [
    "# Step 7\n",
    "# Reindex the DataFrame so it goes from 0 to 299\n",
    "\n",
    "df = df.reindex(range(300))\n",
    "print(df) # To check if the first 10 rows of the DataFrame have been successfully reindexed.\n",
    "print(\"\\n-------------------------------------------------------------------\\n\")"
   ]
  },
  {
   "cell_type": "markdown",
   "id": "0952856d",
   "metadata": {},
   "source": [
    "Question 4\n",
    "\n",
    "Wind Statistics\n",
    "\n",
    "The data have been modified to contain some missing values, identified by NaN. Using pandas should make this exercise easier, in particular for the bonus question.\n",
    "You should be able to perform all of these operations without using a for loop or other looping construct.\n",
    "\n",
    "The data in 'wind.data' has the following format:\n",
    "Yr Mo Dy RPT VAL ROS KIL SHA BIR DUB CLA MUL CLO BEL MAL\n",
    "61 1 1 15.04 14.96 13.17 9.29 NaN 9.87 13.67 10.25 10.83 12.58 18.50 15.04\n",
    "61 1 2 14.71 NaN 10.83 6.50 12.62 7.67 11.50 10.04 9.79 9.67 17.54 13.83\n",
    "61 1 3 18.50 16.88 12.33 10.13 11.17 6.17 11.25 NaN 8.50 7.67 12.75 12.71\n",
    "\n",
    "The first three columns are year, month, and day. The remaining 12 columns are average windspeeds in knots at 12 locations in Ireland on that day.\n",
    "\n",
    "Step 1. Import the necessary libraries\n",
    "Step 2. Import the dataset from the attached file wind.txt\n",
    "Step 3. Assign it to a variable called data and replace the first 3 columns by a proper datetime index.\n",
    "Step 4. Year 2061? Do we really have data from this year? Create a function to fix it and apply it.\n",
    "Step 5. Set the right dates as the index. Pay attention at the data type, it should be datetime64[ns].\n",
    "Step 6. Compute how many values are missing for each location over the entire record.They should be ignored in all calculations below.\n",
    "Step 7. Compute how many non-missing values there are in total.\n",
    "Step 8. Calculate the mean windspeeds of the windspeeds over all the locations and all the times. A single number for the entire dataset.\n",
    "Step 9. Create a DataFrame called loc_stats and calculate the min, max and mean windspeeds and standard deviations of the windspeeds at each location over all the days. A different set of numbers for each location.\n",
    "Step 10. Create a DataFrame called day_stats and calculate the min, max and mean windspeed and standard deviations of the windspeeds across all the locations at each day.\n",
    "A different set of numbers for each day.\n",
    "Step 11. Find the average windspeed in January for each location. Treat January 1961 and January 1962 both as January.\n",
    "Step 12. Downsample the record to a yearly frequency for each location. \n",
    "Step 13. Downsample the record to a monthly frequency for each location.\n",
    "Step 14. Downsample the record to a weekly frequency for each location.\n",
    "Step 15. Calculate the min, max and mean windspeeds and standard deviations of the windspeeds across all locations for each week (assume that the first week starts on January 2 1961) for the first 52 weeks."
   ]
  },
  {
   "cell_type": "code",
   "execution_count": 41,
   "id": "9822603d",
   "metadata": {},
   "outputs": [],
   "source": [
    "# Step - 1 & 2\n",
    "# Import the necessary libraries and Import the dataset from the attached file wind.txt\n",
    "\n",
    "import pandas as pd\n",
    "import numpy as np\n",
    "\n",
    "url = 'https://raw.githubusercontent.com/guipsamora/pandas_exercises/master/06_Stats/Wind_Stats/wind.data'"
   ]
  },
  {
   "cell_type": "code",
   "execution_count": 42,
   "id": "b4bed5c5",
   "metadata": {},
   "outputs": [],
   "source": [
    "# Step - 3 \n",
    "# Assign it to a variable called data and replace the first 3 columns by a proper datetime index.\n",
    "\n",
    "data = pd.read_csv(url, sep='\\s+', parse_dates=[[0, 1, 2]])\n",
    "\n",
    "# Good naming convention\n",
    "data.columns = ['date', 'rpt', 'val', 'ros', 'kil', 'sha', 'bir', 'dub', 'cla', 'mul', 'clo', 'bel', 'mal']"
   ]
  },
  {
   "cell_type": "code",
   "execution_count": 43,
   "id": "61fb0264",
   "metadata": {},
   "outputs": [],
   "source": [
    "# Step - 4\n",
    "# Year 2061? Do we really have data from this year? Create a function to fix it and apply it.\n",
    "\n",
    "def fix_year(x):\n",
    "    # if the year is more than 1989, this will be implemented\n",
    "    year = x.year - 100 if x.year > 1989 else x.year\n",
    "    return pd.Timestamp(year=year, month=x.month, day=x.day)\n",
    "\n",
    "data['date'] = data['date'].apply(fix_year)"
   ]
  },
  {
   "cell_type": "code",
   "execution_count": 44,
   "id": "9f2da79f",
   "metadata": {},
   "outputs": [],
   "source": [
    "# Step - 5 \n",
    "# Set the right dates as the index. Pay attention at the data type, it should be datetime64[ns].\n",
    "\n",
    "data = data.set_index('date')"
   ]
  },
  {
   "cell_type": "code",
   "execution_count": 45,
   "id": "c692686a",
   "metadata": {},
   "outputs": [
    {
     "name": "stdout",
     "output_type": "stream",
     "text": [
      "rpt    6\n",
      "val    3\n",
      "ros    2\n",
      "kil    5\n",
      "sha    2\n",
      "bir    0\n",
      "dub    3\n",
      "cla    2\n",
      "mul    3\n",
      "clo    1\n",
      "bel    0\n",
      "mal    4\n",
      "dtype: int64\n",
      "\n",
      "-------------------------------------------------------------------\n",
      "\n"
     ]
    }
   ],
   "source": [
    "# Step - 6 \n",
    "# Compute how many values are missing for each location over the entire record.They should be ignored in all calculations below.\n",
    "\n",
    "print(data.isnull().sum())\n",
    "print(\"\\n-------------------------------------------------------------------\\n\")"
   ]
  },
  {
   "cell_type": "code",
   "execution_count": 7,
   "id": "3e11c1cb",
   "metadata": {},
   "outputs": [
    {
     "name": "stdout",
     "output_type": "stream",
     "text": [
      "78857\n"
     ]
    }
   ],
   "source": [
    "# Step - 7\n",
    "# Compute how many non-missing values there are in total.\n",
    "\n",
    "print(data.notnull().sum().sum())"
   ]
  },
  {
   "cell_type": "code",
   "execution_count": 9,
   "id": "82d212a1",
   "metadata": {},
   "outputs": [
    {
     "name": "stdout",
     "output_type": "stream",
     "text": [
      "10.227982360836924\n"
     ]
    }
   ],
   "source": [
    "# Step - 8\n",
    "# Calculate the mean windspeeds of the windspeeds over all the locations and all the times.\n",
    "\n",
    "print(data.mean().mean())"
   ]
  },
  {
   "cell_type": "code",
   "execution_count": 12,
   "id": "4f9ea0f7",
   "metadata": {},
   "outputs": [
    {
     "name": "stdout",
     "output_type": "stream",
     "text": [
      "      min    max       mean       std\n",
      "rpt  0.67  35.80  12.362987  5.618413\n",
      "val  0.21  33.37  10.644314  5.267356\n",
      "ros  1.50  33.84  11.660526  5.008450\n",
      "kil  0.00  28.46   6.306468  3.605811\n",
      "sha  0.13  37.54  10.455834  4.936125\n",
      "bir  0.00  26.16   7.092254  3.968683\n",
      "dub  0.00  30.37   9.797343  4.977555\n",
      "cla  0.00  31.08   8.495053  4.499449\n",
      "mul  0.00  25.88   8.493590  4.166872\n",
      "clo  0.04  28.21   8.707332  4.503954\n",
      "bel  0.13  42.38  13.121007  5.835037\n",
      "mal  0.67  42.54  15.599079  6.699794\n",
      "\n",
      "-------------------------------------------------------------------\n",
      "\n"
     ]
    }
   ],
   "source": [
    "# Step - 9\n",
    "# Create a DataFrame called loc_stats and calculate the min, max and mean windspeeds and standard deviations of the windspeeds at each location over all the days. A different set of numbers for each location.\n",
    "\n",
    "loc_stats = pd.DataFrame({\n",
    "    'min': data.min(), # Finds minimum values\n",
    "    'max': data.max(), # Finds maximum values\n",
    "    'mean': data.mean(), # Finds mean values\n",
    "    'std': data.std() # Finds Standard Deviation\n",
    "})\n",
    "print(loc_stats)\n",
    "print(\"\\n-------------------------------------------------------------------\\n\")"
   ]
  },
  {
   "cell_type": "code",
   "execution_count": 13,
   "id": "6504638c",
   "metadata": {},
   "outputs": [
    {
     "name": "stdout",
     "output_type": "stream",
     "text": [
      "             min    max       mean       std\n",
      "date                                        \n",
      "1961-01-01  9.29  18.50  13.018182  2.808875\n",
      "1961-01-02  6.50  17.54  11.336364  3.188994\n",
      "1961-01-03  6.17  18.50  11.641818  3.681912\n",
      "1961-01-04  1.79  11.75   6.619167  3.198126\n",
      "1961-01-05  6.17  13.33  10.630000  2.445356\n",
      "...          ...    ...        ...       ...\n",
      "1978-12-27  8.08  40.08  16.708333  7.868076\n",
      "1978-12-28  5.00  41.46  15.150000  9.687857\n",
      "1978-12-29  8.71  29.58  14.890000  5.756836\n",
      "1978-12-30  9.13  28.79  15.367500  5.540437\n",
      "1978-12-31  9.59  27.29  15.402500  5.702483\n",
      "\n",
      "[6574 rows x 4 columns]\n",
      "\n",
      "-------------------------------------------------------------------\n",
      "\n"
     ]
    }
   ],
   "source": [
    "# Step - 10 \n",
    "# Create a DataFrame called day_stats and calculate the min, max and mean windspeed and standard deviations of the windspeeds across all the locations at each day. A different set of numbers for each day.\n",
    "\n",
    "day_stats = pd.DataFrame({\n",
    "    'min': data.min(axis=1),\n",
    "    'max': data.max(axis=1),\n",
    "    'mean': data.mean(axis=1),\n",
    "    'std': data.std(axis=1)\n",
    "})\n",
    "print(day_stats)\n",
    "print(\"\\n-------------------------------------------------------------------\\n\")"
   ]
  },
  {
   "cell_type": "code",
   "execution_count": 14,
   "id": "c43691bc",
   "metadata": {},
   "outputs": [
    {
     "name": "stdout",
     "output_type": "stream",
     "text": [
      "rpt    14.847325\n",
      "val    12.914560\n",
      "ros    13.299624\n",
      "kil     7.199498\n",
      "sha    11.667734\n",
      "bir     8.054839\n",
      "dub    11.819355\n",
      "cla     9.512047\n",
      "mul     9.543208\n",
      "clo    10.053566\n",
      "bel    14.550520\n",
      "mal    18.028763\n",
      "dtype: float64\n",
      "\n",
      "-------------------------------------------------------------------\n",
      "\n"
     ]
    }
   ],
   "source": [
    "# Step - 11\n",
    "# Find the average windspeed in January for each location. Treat January 1961 and January 1962 both as January.\n",
    "\n",
    "january_data = data[data.index.month == 1]\n",
    "print(january_data.mean()) # mean for january month\n",
    "print(\"\\n-------------------------------------------------------------------\\n\")"
   ]
  },
  {
   "cell_type": "code",
   "execution_count": 16,
   "id": "803dc6a6",
   "metadata": {},
   "outputs": [
    {
     "name": "stdout",
     "output_type": "stream",
     "text": [
      "                  rpt        val        ros       kil        sha       bir  \\\n",
      "date                                                                         \n",
      "1961-01-01  12.299583  10.351796  11.362369  6.958227  10.881763  7.729726   \n",
      "1962-01-01  12.246923  10.110438  11.732712  6.960440  10.657918  7.393068   \n",
      "1963-01-01  12.813452  10.836986  12.541151  7.330055  11.724110  8.434712   \n",
      "1964-01-01  12.363661  10.920164  12.104372  6.787787  11.454481  7.570874   \n",
      "1965-01-01  12.451370  11.075534  11.848767  6.858466  11.024795  7.478110   \n",
      "1966-01-01  13.461973  11.557205  12.020630  7.345726  11.805041  7.793671   \n",
      "1967-01-01  12.737151  10.990986  11.739397  7.143425  11.630740  7.368164   \n",
      "1968-01-01  11.835628  10.468197  11.409754  6.477678  10.760765  6.067322   \n",
      "1969-01-01  11.166356   9.723699  10.902000  5.767973   9.873918  6.189973   \n",
      "1970-01-01  12.600329  10.726932  11.730247  6.217178  10.567370  7.609452   \n",
      "1971-01-01  11.273123   9.095178  11.088329  5.241507   9.440329  6.097151   \n",
      "1972-01-01  12.463962  10.561311  12.058333  5.929699   9.430410  6.358825   \n",
      "1973-01-01  11.828466  10.680493  10.680493  5.547863   9.640877  6.548740   \n",
      "1974-01-01  13.643096  11.811781  12.336356  6.427041  11.110986  6.809781   \n",
      "1975-01-01  12.008575  10.293836  11.564712  5.269096   9.190082  5.668521   \n",
      "1976-01-01  11.737842  10.203115  10.761230  5.109426   8.846339  6.311038   \n",
      "1977-01-01  13.099616  11.144493  12.627836  6.073945  10.003836  8.586438   \n",
      "1978-01-01  12.504356  11.044274  11.380000  6.082356  10.167233  7.650658   \n",
      "\n",
      "                  dub        cla       mul        clo        bel        mal  \n",
      "date                                                                         \n",
      "1961-01-01   9.733923   8.858788  8.647652   9.835577  13.502795  13.680773  \n",
      "1962-01-01  11.020712   8.793753  8.316822   9.676247  12.930685  14.323956  \n",
      "1963-01-01  11.075699  10.336548  8.903589  10.224438  13.638877  14.999014  \n",
      "1964-01-01  10.259153   9.467350  7.789016  10.207951  13.740546  14.910301  \n",
      "1965-01-01  10.618712   8.879918  7.907425   9.918082  12.964247  15.591644  \n",
      "1966-01-01  10.579808   8.835096  8.514438   9.768959  14.265836  16.307260  \n",
      "1967-01-01  10.652027   9.325616  8.645014   9.547425  14.774548  17.135945  \n",
      "1968-01-01   8.859180   8.255519  7.224945   7.832978  12.808634  15.017486  \n",
      "1969-01-01   8.564493   7.711397  7.924521   7.754384  12.621233  15.762904  \n",
      "1970-01-01   9.609890   8.334630  9.297616   8.289808  13.183644  16.456027  \n",
      "1971-01-01   8.385890   6.757315  7.915370   7.229753  12.208932  15.025233  \n",
      "1972-01-01   9.704508   7.680792  8.357295   7.515273  12.727377  15.028716  \n",
      "1973-01-01   8.482110   7.614274  8.245534   7.812411  12.169699  15.441096  \n",
      "1974-01-01  10.084603   9.896986  9.331753   8.736356  13.252959  16.947671  \n",
      "1975-01-01   8.562603   7.843836  8.797945   7.382822  12.631671  15.307863  \n",
      "1976-01-01   9.149126   7.146202  8.883716   7.883087  12.332377  15.471448  \n",
      "1977-01-01  11.523205   8.378384  9.098192   8.821616  13.459068  16.590849  \n",
      "1978-01-01   9.489342   8.800466  9.089753   8.301699  12.967397  16.771370  \n",
      "\n",
      "-------------------------------------------------------------------\n",
      "\n"
     ]
    }
   ],
   "source": [
    "# Step - 12\n",
    "# Downsample the record to a yearly frequency for each location. \n",
    "\n",
    "print(data.resample('AS').mean())\n",
    "print(\"\\n-------------------------------------------------------------------\\n\")"
   ]
  },
  {
   "cell_type": "code",
   "execution_count": 17,
   "id": "e340bab4",
   "metadata": {},
   "outputs": [
    {
     "name": "stdout",
     "output_type": "stream",
     "text": [
      "                  rpt        val        ros       kil        sha        bir  \\\n",
      "date                                                                          \n",
      "1961-01-31  14.841333  11.988333  13.431613  7.736774  11.072759   8.588065   \n",
      "1961-02-28  16.269286  14.975357  14.441481  9.230741  13.852143  10.937500   \n",
      "1961-03-31  10.890000  11.296452  10.752903  7.284000  10.509355   8.866774   \n",
      "1961-04-30  10.722667   9.427667   9.998000  5.830667   8.435000   6.495000   \n",
      "1961-05-31   9.860968   8.850000  10.818065  5.905333   9.490323   6.574839   \n",
      "...               ...        ...        ...       ...        ...        ...   \n",
      "1978-08-31   9.645161   8.259355   9.032258  4.502903   7.368065   5.935161   \n",
      "1978-09-30  10.913667  10.895000  10.635000  5.725000  10.372000   9.278333   \n",
      "1978-10-31   9.897742   8.670968   9.295806  4.721290   8.525161   6.774194   \n",
      "1978-11-30  16.151667  14.802667  13.508000  7.317333  11.475000   8.743000   \n",
      "1978-12-31  16.175484  13.748065  15.635161  7.094839  11.398710   9.241613   \n",
      "\n",
      "                  dub        cla        mul        clo        bel        mal  \n",
      "date                                                                          \n",
      "1961-01-31  11.184839   9.245333   9.085806  10.107419  13.880968  14.703226  \n",
      "1961-02-28  11.890714  11.846071  11.821429  12.714286  18.583214  15.411786  \n",
      "1961-03-31   9.644194   9.829677  10.294138  11.251935  16.410968  15.720000  \n",
      "1961-04-30   6.925333   7.094667   7.342333   7.237000  11.147333  10.278333  \n",
      "1961-05-31   7.604000   8.177097   8.039355   8.499355  11.900323  12.011613  \n",
      "...               ...        ...        ...        ...        ...        ...  \n",
      "1978-08-31   5.650323   5.417742   7.241290   5.536774  10.466774  12.054194  \n",
      "1978-09-30  10.790333   9.583000  10.069333   8.939000  15.680333  19.391333  \n",
      "1978-10-31   8.115484   7.337742   8.297742   8.243871  13.776774  17.150000  \n",
      "1978-11-30  11.492333   9.657333  10.701333  10.676000  17.404667  20.723000  \n",
      "1978-12-31  12.077419  10.194839  10.616774  11.028710  13.859677  21.371613  \n",
      "\n",
      "[216 rows x 12 columns]\n",
      "\n",
      "-------------------------------------------------------------------\n",
      "\n"
     ]
    }
   ],
   "source": [
    "# Step - 13\n",
    "# Downsample the record to a monthly frequency for each location.\n",
    "\n",
    "print(data.resample('M').mean())\n",
    "print(\"\\n-------------------------------------------------------------------\\n\")"
   ]
  },
  {
   "cell_type": "code",
   "execution_count": 18,
   "id": "fb1b354c",
   "metadata": {},
   "outputs": [
    {
     "name": "stdout",
     "output_type": "stream",
     "text": [
      "                  rpt        val        ros        kil        sha        bir  \\\n",
      "date                                                                           \n",
      "1961-01-01  15.040000  14.960000  13.170000   9.290000        NaN   9.870000   \n",
      "1961-01-08  13.541429  11.486667  10.487143   6.417143   9.474286   6.435714   \n",
      "1961-01-15  12.468571   8.967143  11.958571   4.630000   7.351429   5.072857   \n",
      "1961-01-22  13.204286   9.862857  12.982857   6.328571   8.966667   7.417143   \n",
      "1961-01-29  19.880000  16.141429  18.225714  12.720000  17.432857  14.828571   \n",
      "...               ...        ...        ...        ...        ...        ...   \n",
      "1978-12-03  14.934286  11.232857  13.941429   5.565714  10.215714   8.618571   \n",
      "1978-12-10  20.740000  19.190000  17.034286   9.777143  15.287143  12.774286   \n",
      "1978-12-17  16.758571  14.692857  14.987143   6.917143  11.397143   7.272857   \n",
      "1978-12-24  11.155714   8.008571  13.172857   4.004286   7.825714   6.290000   \n",
      "1978-12-31  14.951429  11.801429  16.035714   6.507143   9.660000   8.620000   \n",
      "\n",
      "                  dub        cla        mul        clo        bel        mal  \n",
      "date                                                                          \n",
      "1961-01-01  13.670000  10.250000  10.830000  12.580000  18.500000  15.040000  \n",
      "1961-01-08  11.061429   6.616667   8.434286   8.497143  12.481429  13.238571  \n",
      "1961-01-15   7.535714   6.820000   5.712857   7.571429  11.125714  11.024286  \n",
      "1961-01-22   9.257143   7.875714   7.145714   8.124286   9.821429  11.434286  \n",
      "1961-01-29  15.528571  15.160000  14.480000  15.640000  20.930000  22.530000  \n",
      "...               ...        ...        ...        ...        ...        ...  \n",
      "1978-12-03   9.642857   7.685714   9.011429   9.547143  11.835714  18.728571  \n",
      "1978-12-10  14.437143  12.488571  13.870000  14.082857  18.517143  23.061429  \n",
      "1978-12-17  10.208571   7.967143   9.168571   8.565714  11.102857  15.562857  \n",
      "1978-12-24   7.798571   8.667143   7.151429   8.072857  11.845714  18.977143  \n",
      "1978-12-31  13.708571  10.477143  10.868571  11.471429  12.947143  26.844286  \n",
      "\n",
      "[940 rows x 12 columns]\n",
      "\n",
      "-------------------------------------------------------------------\n",
      "\n"
     ]
    }
   ],
   "source": [
    "# Step-14\n",
    "# Downsample the record to a weekly frequency for each location.\n",
    "\n",
    "print(data.resample('W').mean())\n",
    "print(\"\\n-------------------------------------------------------------------\\n\")"
   ]
  },
  {
   "cell_type": "code",
   "execution_count": 46,
   "id": "3b5852a7",
   "metadata": {},
   "outputs": [
    {
     "name": "stdout",
     "output_type": "stream",
     "text": [
      "       rpt                               val                              \\\n",
      "       min    max       mean       std   min    max       mean       std   \n",
      "week                                                                       \n",
      "1     2.62  33.34  13.920000  6.341312  0.54  28.50  11.710880  5.976741   \n",
      "2     2.00  32.17  15.549921  6.493246  1.08  33.04  13.359524  6.445335   \n",
      "3     1.63  33.12  14.950159  6.323325  1.50  26.54  13.281349  5.487427   \n",
      "4     0.67  35.38  15.241920  6.558873  2.83  29.88  13.575317  6.062601   \n",
      "5     2.71  33.84  14.559127  5.712026  1.17  26.38  12.853413  5.947208   \n",
      "6     2.79  30.13  13.203730  5.620867  0.79  30.96  11.508492  5.845671   \n",
      "7     2.92  29.17  14.517460  5.916627  2.67  28.16  12.681349  5.974678   \n",
      "8     1.54  32.38  13.422857  5.923096  0.63  29.33  11.822937  5.428889   \n",
      "9     0.67  28.91  12.761360  5.240324  1.42  25.66  11.837460  5.206450   \n",
      "10    2.29  35.80  13.526720  6.165086  1.50  31.63  11.758095  5.842768   \n",
      "11    1.46  33.04  13.597143  6.412912  1.58  28.46  11.495079  5.553335   \n",
      "12    2.92  32.13  13.006825  5.509073  2.25  23.29  11.621032  5.109913   \n",
      "13    2.79  27.12  12.772540  5.278774  1.54  24.67  11.076349  5.126852   \n",
      "14    3.88  32.58  13.903968  5.698092  1.87  27.58  11.025238  5.048327   \n",
      "15    4.42  29.79  12.599444  5.335705  1.63  26.96   9.966667  4.679762   \n",
      "16    3.67  27.84  12.753968  5.248461  0.54  27.71  11.111587  5.032893   \n",
      "17    3.46  26.83  10.966349  5.378706  1.42  23.16   9.647698  4.758561   \n",
      "18    1.63  27.25  12.897222  4.367054  2.96  21.84  11.095079  4.274369   \n",
      "19    3.54  30.91  13.061429  5.517038  1.83  22.17  11.275159  4.345500   \n",
      "20    2.42  25.17  11.338571  5.404169  1.63  22.95   9.769200  4.876184   \n",
      "21    2.62  28.79  11.282698  5.200316  1.25  26.00   9.673889  4.471767   \n",
      "22    2.04  21.84   9.673333  4.053188  2.21  19.55   8.264683  3.521804   \n",
      "23    2.17  23.21  10.092143  4.516349  1.83  18.71   8.980556  3.909693   \n",
      "24    1.00  21.59  10.131905  4.410570  1.71  19.33   8.741984  4.503438   \n",
      "25    2.92  22.71  11.680238  4.415008  1.79  21.04   9.898016  4.116320   \n",
      "26    3.46  20.50  10.036000  3.868826  1.79  17.46   8.770635  3.476639   \n",
      "27    2.00  25.84   9.991984  4.742847  1.00  18.08   7.916984  3.715586   \n",
      "28    2.75  22.50   9.962143  4.661313  1.96  19.29   8.272619  3.932700   \n",
      "29    1.71  22.34  10.281746  4.578130  0.96  18.54   8.422063  3.921746   \n",
      "30    1.25  20.33   9.760397  4.056483  2.08  16.29   8.211984  3.535041   \n",
      "31    2.79  22.42   9.721984  4.143365  0.71  19.41   8.218571  3.691241   \n",
      "32    2.67  20.08  10.202640  3.982815  1.17  17.62   8.669683  4.076909   \n",
      "33    3.17  26.38  10.213254  4.914926  1.46  23.42   8.000476  4.180112   \n",
      "34    2.42  24.67  10.675556  4.874965  0.83  20.12   9.065317  4.372665   \n",
      "35    0.96  23.38  10.378571  4.976603  1.13  23.54   8.525476  4.816354   \n",
      "36    1.50  29.54  10.764365  5.086312  0.83  22.79   9.296190  4.585837   \n",
      "37    1.79  31.42  11.371190  5.662910  1.75  28.50   9.722857  4.902647   \n",
      "38    0.79  24.79   9.929524  4.585719  0.87  23.09   8.863095  4.646788   \n",
      "39    3.37  27.00  13.960635  5.313510  1.38  25.08  12.361920  4.898134   \n",
      "40    2.37  25.29  12.199841  4.458238  0.75  24.17  10.619127  4.799801   \n",
      "41    3.04  25.92  12.260800  5.400736  0.21  22.83  10.581508  5.352465   \n",
      "42    2.04  28.62  12.777460  5.718162  1.21  23.58  10.966587  5.149048   \n",
      "43    1.50  29.08  13.358651  6.116732  1.21  26.71  11.915238  5.455591   \n",
      "44    3.67  30.09  13.338254  4.922444  1.79  24.87  11.704444  4.971470   \n",
      "45    2.96  32.96  13.292857  5.696753  1.92  30.34  11.758968  5.684442   \n",
      "46    3.50  30.21  14.081746  6.390996  1.75  27.63  12.423571  6.101791   \n",
      "47    2.67  26.50  11.731508  5.234852  1.21  26.46  10.361667  5.278304   \n",
      "48    3.08  34.37  13.843413  6.318558  1.46  33.37  12.230159  6.361247   \n",
      "49    1.21  29.33  14.685000  5.664730  0.42  24.79  12.947222  5.343695   \n",
      "50    1.96  30.91  14.462619  6.921477  0.75  25.17  12.462619  6.260802   \n",
      "51    1.79  28.71  13.639921  5.313674  0.54  29.38  11.697619  5.537990   \n",
      "52    3.00  32.50  14.469134  5.701056  1.46  26.54  11.692283  5.488104   \n",
      "\n",
      "       ros         ...        clo             bel                              \\\n",
      "       min    max  ...       mean       std   min    max       mean       std   \n",
      "week               ...                                                          \n",
      "1     3.79  28.67  ...   9.870635  5.290276  0.58  38.20  14.241746  7.140370   \n",
      "2     3.54  26.67  ...   9.798175  5.275913  1.71  39.04  14.494603  7.201756   \n",
      "3     3.00  32.25  ...  10.169444  4.775379  1.87  29.42  14.578254  5.621603   \n",
      "4     2.75  28.08  ...  10.352063  5.188772  0.13  34.42  14.892222  7.048260   \n",
      "5     3.21  28.16  ...  10.196111  4.991521  1.96  27.71  14.667381  6.457600   \n",
      "6     3.67  28.75  ...   9.298175  4.624377  2.04  28.12  13.903254  6.420629   \n",
      "7     3.50  28.96  ...   9.605476  5.241451  2.67  32.08  13.776667  6.656479   \n",
      "8     2.37  32.71  ...   9.541984  5.096524  2.17  35.08  13.132302  6.070031   \n",
      "9     2.50  28.42  ...   9.611508  4.548139  2.13  31.13  13.724048  6.613164   \n",
      "10    3.42  32.75  ...   9.761429  4.978696  2.21  32.63  13.055000  6.240588   \n",
      "11    2.92  31.83  ...  10.398730  5.112287  2.25  34.92  13.823968  6.768240   \n",
      "12    3.17  30.84  ...  10.259048  4.517893  2.96  31.71  14.389524  5.967105   \n",
      "13    2.71  24.08  ...  10.038571  4.379889  2.50  32.21  14.241667  5.666283   \n",
      "14    3.04  29.04  ...   9.948175  4.384778  2.88  25.50  13.386270  5.398770   \n",
      "15    1.75  30.54  ...   9.338413  4.272218  4.46  27.00  12.842460  4.996957   \n",
      "16    3.33  27.04  ...   9.326905  4.220644  3.21  23.96  12.472857  5.012081   \n",
      "17    2.54  29.79  ...   8.238333  4.217093  3.75  26.12  11.971667  5.180717   \n",
      "18    3.58  21.21  ...   8.952857  4.082519  3.29  28.33  12.928968  5.451848   \n",
      "19    2.29  27.67  ...   9.243254  4.348034  4.71  32.91  13.721984  5.172165   \n",
      "20    3.46  23.25  ...   8.507540  4.520118  4.12  26.42  12.740952  5.203613   \n",
      "21    3.04  26.20  ...   8.278413  3.691034  3.21  28.12  12.536270  4.948721   \n",
      "22    3.50  25.50  ...   7.247222  3.354776  2.67  26.38  11.238810  4.550995   \n",
      "23    2.75  27.25  ...   7.173810  3.366850  4.04  21.34  11.605635  4.118631   \n",
      "24    1.87  28.58  ...   7.259524  3.994689  3.08  25.25  11.835873  5.061491   \n",
      "25    4.21  22.54  ...   8.677063  4.260790  2.96  29.79  13.494762  4.703843   \n",
      "26    1.83  19.00  ...   7.937778  3.233524  4.21  24.71  12.462222  4.694937   \n",
      "27    2.83  20.33  ...   7.451349  3.720332  4.04  23.00  11.582857  4.091140   \n",
      "28    3.42  22.04  ...   7.267063  3.662487  3.25  23.83  11.450159  4.626530   \n",
      "29    2.92  23.00  ...   7.616349  3.733708  3.33  24.41  12.021667  4.682591   \n",
      "30    2.50  25.12  ...   7.010317  3.470866  3.58  22.37  11.410794  4.371903   \n",
      "31    3.08  21.42  ...   6.615556  3.502351  3.46  21.67  11.020317  4.278601   \n",
      "32    4.21  21.62  ...   7.057840  3.676547  3.29  24.08  11.154365  4.323404   \n",
      "33    2.92  27.88  ...   6.502460  4.084187  1.58  23.25  10.647222  4.965292   \n",
      "34    3.54  19.83  ...   7.779206  4.206738  1.63  24.83  11.881667  5.508187   \n",
      "35    2.42  20.75  ...   7.213175  4.115397  2.67  26.46  11.606825  5.625526   \n",
      "36    2.29  23.21  ...   7.221905  3.713513  1.63  24.17  11.597619  4.557266   \n",
      "37    2.96  31.63  ...   7.645952  4.671456  2.54  25.75  12.658968  5.426080   \n",
      "38    2.37  22.54  ...   6.423095  3.609957  2.79  23.04  11.394127  4.955622   \n",
      "39    2.25  22.95  ...   9.402540  4.402953  2.21  28.79  14.980000  6.182079   \n",
      "40    2.54  29.54  ...   8.519524  3.747967  2.42  26.71  13.326429  5.946722   \n",
      "41    2.37  22.63  ...   8.176825  4.367278  2.54  34.83  13.550952  6.480897   \n",
      "42    1.96  26.83  ...   9.039286  4.454747  3.37  32.63  14.088175  6.166586   \n",
      "43    2.17  25.12  ...   9.800873  4.621225  2.96  38.96  16.055873  6.493643   \n",
      "44    2.37  27.37  ...   9.427222  4.226817  3.50  35.30  14.410079  6.097324   \n",
      "45    3.83  26.67  ...   8.962302  4.307786  1.50  33.34  13.990317  6.360937   \n",
      "46    1.83  33.25  ...   9.487302  5.307624  0.71  31.96  14.063889  6.764883   \n",
      "47    1.50  28.21  ...   7.933095  4.176509  1.25  30.00  12.399762  5.642172   \n",
      "48    3.21  28.46  ...   9.121190  4.994491  2.46  42.38  14.481111  6.569081   \n",
      "49    4.46  27.67  ...   9.994524  4.072104  4.04  28.16  15.140397  5.366918   \n",
      "50    2.83  25.29  ...   9.842698  5.535018  2.29  29.25  14.716905  6.919748   \n",
      "51    3.92  27.54  ...   8.687937  4.269109  2.88  30.84  13.298889  6.342417   \n",
      "52    2.13  33.84  ...   9.677953  4.510556  0.67  31.25  13.549055  6.384876   \n",
      "\n",
      "       mal                              \n",
      "       min    max       mean       std  \n",
      "week                                    \n",
      "1     4.17  37.63  18.249841  7.047385  \n",
      "2     3.63  34.70  17.623413  7.145932  \n",
      "3     4.63  32.83  17.981190  6.624527  \n",
      "4     3.25  40.12  18.337381  7.634472  \n",
      "5     4.83  38.79  17.702222  6.620860  \n",
      "6     5.29  33.04  17.921587  6.092634  \n",
      "7     5.09  37.04  17.130159  6.819665  \n",
      "8     3.04  38.20  16.882540  7.251216  \n",
      "9     3.17  31.66  16.602080  6.191920  \n",
      "10    2.46  37.59  16.047381  6.572057  \n",
      "11    4.54  40.37  17.331280  7.428510  \n",
      "12    3.21  37.99  17.859365  6.902719  \n",
      "13    2.04  31.20  16.486508  6.644671  \n",
      "14    3.71  34.08  16.691349  6.979889  \n",
      "15    4.33  33.95  15.900476  6.795427  \n",
      "16    4.17  28.67  14.229524  5.328738  \n",
      "17    2.21  32.05  13.097460  6.018248  \n",
      "18    2.58  28.75  14.523810  6.216011  \n",
      "19    3.33  26.83  14.288016  5.699596  \n",
      "20    3.58  32.17  13.859286  5.865042  \n",
      "21    4.04  29.50  13.626825  5.258812  \n",
      "22    1.75  28.04  11.770317  5.001233  \n",
      "23    2.21  32.79  12.395476  5.383357  \n",
      "24    2.79  27.16  12.041270  5.419266  \n",
      "25    3.08  28.38  14.329841  5.873487  \n",
      "26    4.54  25.17  12.993840  4.516285  \n",
      "27    4.50  29.63  13.096984  5.292558  \n",
      "28    2.13  28.46  12.932460  5.565273  \n",
      "29    2.29  25.37  12.880476  5.472898  \n",
      "30    2.88  25.37  12.279683  5.055287  \n",
      "31    2.25  24.83  12.348492  5.053851  \n",
      "32    3.04  29.95  12.746587  5.353812  \n",
      "33    2.17  34.33  11.315680  5.587084  \n",
      "34    3.37  30.46  13.764762  5.642352  \n",
      "35    3.83  28.84  13.390873  5.962103  \n",
      "36    3.37  30.34  13.754921  5.692819  \n",
      "37    2.83  35.13  14.827540  6.350553  \n",
      "38    0.67  29.63  13.094921  5.420672  \n",
      "39    4.04  33.63  16.928095  6.943457  \n",
      "40    2.04  32.96  15.758095  6.364950  \n",
      "41    3.33  36.51  15.663571  6.537501  \n",
      "42    5.04  33.45  17.116111  6.401907  \n",
      "43    6.17  36.63  18.580952  6.799425  \n",
      "44    6.17  37.59  18.089048  6.808701  \n",
      "45    2.96  38.04  18.065794  7.460630  \n",
      "46    2.00  41.25  19.360873  8.594056  \n",
      "47    4.25  34.83  16.473254  6.677397  \n",
      "48    5.88  42.54  18.234365  6.763319  \n",
      "49    5.09  36.08  19.625714  6.191738  \n",
      "50    6.50  37.12  18.242937  6.607478  \n",
      "51    2.62  38.25  17.182063  6.303056  \n",
      "52    4.58  41.46  19.183228  6.834899  \n",
      "\n",
      "[52 rows x 48 columns]\n",
      "\n",
      "-------------------------------------------------------------------\n",
      "\n"
     ]
    },
    {
     "name": "stderr",
     "output_type": "stream",
     "text": [
      "C:\\Users\\parth\\AppData\\Local\\Temp\\ipykernel_11380\\3720830262.py:5: FutureWarning: weekofyear and week have been deprecated, please use DatetimeIndex.isocalendar().week instead, which returns a Series. To exactly reproduce the behavior of week and weekofyear and return an Index, you may call pd.Int64Index(idx.isocalendar().week)\n",
      "  data['week'] = data.index.week\n"
     ]
    }
   ],
   "source": [
    "# Step - 15\n",
    "# Calculate the min, max and mean windspeeds and standard deviations of the windspeeds across all locations for each week (assume that the first week starts on January 2 1961) for the first 52 weeks.\n",
    "\n",
    "# Create a new column for week number\n",
    "data['week'] = data.index.week\n",
    "# Subset the first 52 weeks\n",
    "data = data.loc[data['week'] <= 52]\n",
    "# Calculate the statistics by week\n",
    "stats = data.groupby('week').agg(['min', 'max', 'mean', 'std'])\n",
    "# Print the results\n",
    "print(stats)\n",
    "print(\"\\n-------------------------------------------------------------------\\n\")"
   ]
  },
  {
   "cell_type": "markdown",
   "id": "40fb8bb0",
   "metadata": {},
   "source": [
    "Question 5\n",
    "\n",
    "Step 1. Import the necessary libraries\n",
    "Step 2. Import the dataset from this address. \n",
    "Step 3. Assign it to a variable called chipo.\n",
    "Step 4. See the first 10 entries\n",
    "Step 5. What is the number of observations in the dataset?\n",
    "Step 6. What is the number of columns in the dataset?\n",
    "Step 7. Print the name of all the columns. \n",
    "Step 8. How is the dataset indexed?\n",
    "Step 9. Which was the most-ordered item?\n",
    "Step 10. For the most-ordered item, how many items were ordered?\n",
    "Step 11. What was the most ordered item in the choice_description column? \n",
    "Step 12. How many items were orderd in total?\n",
    "Step 13.\n",
    "• Turn the item price into a float\n",
    "• Check the item price type\n",
    "• Create a lambda function and change the type of item price\n",
    "• Check the item price type\n",
    "Step 14. How much was the revenue for the period in the dataset? \n",
    "Step 15. How many orders were made in the period?\n",
    "Step 16. What is the average revenue amount per order?\n",
    "Step 17. How many different items are sold?"
   ]
  },
  {
   "cell_type": "code",
   "execution_count": 7,
   "id": "65c09a28",
   "metadata": {},
   "outputs": [],
   "source": [
    "# Step - 1\n",
    "# Import the necessary libraries\n",
    "\n",
    "import pandas as pd"
   ]
  },
  {
   "cell_type": "code",
   "execution_count": 8,
   "id": "5913e723",
   "metadata": {},
   "outputs": [],
   "source": [
    "# Step - 2\n",
    "# Import the dataset from this address. \n",
    "\n",
    "url = 'https://raw.githubusercontent.com/justmarkham/DAT8/master/data/chipotle.tsv'"
   ]
  },
  {
   "cell_type": "code",
   "execution_count": 9,
   "id": "89d87177",
   "metadata": {},
   "outputs": [],
   "source": [
    "# Step - 3\n",
    "# Assign it to a variable called chipo.\n",
    "\n",
    "chipo = pd.read_csv(url, delimiter='\\t')"
   ]
  },
  {
   "cell_type": "code",
   "execution_count": 11,
   "id": "da04e2e7",
   "metadata": {},
   "outputs": [
    {
     "name": "stdout",
     "output_type": "stream",
     "text": [
      "   order_id  quantity                              item_name  \\\n",
      "0         1         1           Chips and Fresh Tomato Salsa   \n",
      "1         1         1                                   Izze   \n",
      "2         1         1                       Nantucket Nectar   \n",
      "3         1         1  Chips and Tomatillo-Green Chili Salsa   \n",
      "4         2         2                           Chicken Bowl   \n",
      "5         3         1                           Chicken Bowl   \n",
      "6         3         1                          Side of Chips   \n",
      "7         4         1                          Steak Burrito   \n",
      "8         4         1                       Steak Soft Tacos   \n",
      "9         5         1                          Steak Burrito   \n",
      "\n",
      "                                  choice_description item_price  \n",
      "0                                                NaN     $2.39   \n",
      "1                                       [Clementine]     $3.39   \n",
      "2                                            [Apple]     $3.39   \n",
      "3                                                NaN     $2.39   \n",
      "4  [Tomatillo-Red Chili Salsa (Hot), [Black Beans...    $16.98   \n",
      "5  [Fresh Tomato Salsa (Mild), [Rice, Cheese, Sou...    $10.98   \n",
      "6                                                NaN     $1.69   \n",
      "7  [Tomatillo Red Chili Salsa, [Fajita Vegetables...    $11.75   \n",
      "8  [Tomatillo Green Chili Salsa, [Pinto Beans, Ch...     $9.25   \n",
      "9  [Fresh Tomato Salsa, [Rice, Black Beans, Pinto...     $9.25   \n",
      "\n",
      "-------------------------------------------------------------------\n",
      "\n"
     ]
    }
   ],
   "source": [
    "# Step - 4 \n",
    "# See the first 10 entries\n",
    "\n",
    "print(chipo.head(10))\n",
    "print(\"\\n-------------------------------------------------------------------\\n\")"
   ]
  },
  {
   "cell_type": "code",
   "execution_count": 13,
   "id": "b1715afe",
   "metadata": {},
   "outputs": [
    {
     "name": "stdout",
     "output_type": "stream",
     "text": [
      "Number of observations:  4622\n"
     ]
    }
   ],
   "source": [
    "# Step - 5 \n",
    "# What is the number of observations in the dataset?\n",
    "\n",
    "print(\"Number of observations: \", len(chipo))\n",
    "# print(\"\\n-------------------------------------------------------------------\\n\")"
   ]
  },
  {
   "cell_type": "code",
   "execution_count": 14,
   "id": "4620d860",
   "metadata": {},
   "outputs": [
    {
     "name": "stdout",
     "output_type": "stream",
     "text": [
      "Number of columns:  5\n"
     ]
    }
   ],
   "source": [
    "# Step - 6\n",
    "# What is the number of columns in the dataset?\n",
    "\n",
    "print(\"Number of columns: \", len(chipo.columns))\n",
    "# print(\"\\n-------------------------------------------------------------------\\n\")"
   ]
  },
  {
   "cell_type": "code",
   "execution_count": 15,
   "id": "d7bbc513",
   "metadata": {},
   "outputs": [
    {
     "name": "stdout",
     "output_type": "stream",
     "text": [
      "Column names:  ['order_id', 'quantity', 'item_name', 'choice_description', 'item_price']\n"
     ]
    }
   ],
   "source": [
    "# Step - 7\n",
    "# Print the name of all the columns. \n",
    "\n",
    "print(\"Column names: \", chipo.columns.tolist())\n",
    "# print(\"\\n-------------------------------------------------------------------\\n\")"
   ]
  },
  {
   "cell_type": "code",
   "execution_count": 16,
   "id": "ab51a960",
   "metadata": {},
   "outputs": [
    {
     "name": "stdout",
     "output_type": "stream",
     "text": [
      "Index:  RangeIndex(start=0, stop=4622, step=1)\n"
     ]
    }
   ],
   "source": [
    "# Step - 8\n",
    "# How is the dataset indexed?\n",
    "\n",
    "print(\"Index: \", chipo.index)\n",
    "# print(\"\\n-------------------------------------------------------------------\\n\")"
   ]
  },
  {
   "cell_type": "code",
   "execution_count": 18,
   "id": "e3f68411",
   "metadata": {},
   "outputs": [
    {
     "name": "stdout",
     "output_type": "stream",
     "text": [
      "Most ordered item:  Chicken Bowl\n"
     ]
    }
   ],
   "source": [
    "# Step - 9\n",
    "# Which was the most-ordered item?\n",
    "\n",
    "most_ordered_item = chipo.groupby('item_name').sum().sort_values('quantity', ascending=False).head(1)\n",
    "print(\"Most ordered item: \", most_ordered_item.index[0])\n",
    "# print(\"\\n-------------------------------------------------------------------\\n\")"
   ]
  },
  {
   "cell_type": "code",
   "execution_count": 19,
   "id": "367dfcd6",
   "metadata": {},
   "outputs": [
    {
     "name": "stdout",
     "output_type": "stream",
     "text": [
      "Number of items ordered:  761\n"
     ]
    }
   ],
   "source": [
    "# Step - 10\n",
    "# For the most-ordered item, how many items were ordered?\n",
    "\n",
    "print(\"Number of items ordered: \", int(most_ordered_item['quantity']))\n",
    "# print(\"\\n-------------------------------------------------------------------\\n\")"
   ]
  },
  {
   "cell_type": "code",
   "execution_count": 20,
   "id": "c0e3a621",
   "metadata": {},
   "outputs": [
    {
     "name": "stdout",
     "output_type": "stream",
     "text": [
      "Most ordered choice:  [Diet Coke]\n"
     ]
    }
   ],
   "source": [
    "# Step - 11 \n",
    "# What was the most ordered item in the choice_description column? \n",
    "\n",
    "most_ordered_choice = chipo.groupby('choice_description').sum().sort_values('quantity', ascending=False).head(1)\n",
    "print(\"Most ordered choice: \", most_ordered_choice.index[0])\n",
    "# print(\"\\n-------------------------------------------------------------------\\n\")"
   ]
  },
  {
   "cell_type": "code",
   "execution_count": 21,
   "id": "76284940",
   "metadata": {},
   "outputs": [
    {
     "name": "stdout",
     "output_type": "stream",
     "text": [
      "Total items ordered:  4972\n"
     ]
    }
   ],
   "source": [
    "# Step - 12\n",
    "# How many items were orderd in total?\n",
    "\n",
    "total_items_ordered = chipo['quantity'].sum()\n",
    "print(\"Total items ordered: \", total_items_ordered)\n",
    "# print(\"\\n-------------------------------------------------------------------\\n\")"
   ]
  },
  {
   "cell_type": "code",
   "execution_count": 22,
   "id": "0e695039",
   "metadata": {},
   "outputs": [],
   "source": [
    "# Step 13.\n",
    "# 1 Turn the item price into a float\n",
    "# 2 Check the item price type\n",
    "# 3 Create a lambda function and change the type of item price\n",
    "# 4 Check the item price type\n",
    "\n",
    "# 1, 2 & 3\n",
    "chipo['item_price'] = chipo['item_price'].apply(lambda x: float(x[1:-1]))"
   ]
  },
  {
   "cell_type": "code",
   "execution_count": 23,
   "id": "288f00e1",
   "metadata": {},
   "outputs": [
    {
     "name": "stdout",
     "output_type": "stream",
     "text": [
      "Type of item_price column:  float64\n"
     ]
    }
   ],
   "source": [
    "# 4\n",
    "print(\"Type of item_price column: \", chipo['item_price'].dtype)"
   ]
  },
  {
   "cell_type": "code",
   "execution_count": 24,
   "id": "c886de32",
   "metadata": {},
   "outputs": [
    {
     "name": "stdout",
     "output_type": "stream",
     "text": [
      "Total revenue: $ 39237.02\n"
     ]
    }
   ],
   "source": [
    "# Step - 14\n",
    "# How much was the revenue for the period in the dataset? \n",
    "\n",
    "revenue = (chipo['quantity'] * chipo['item_price']).sum()\n",
    "print(\"Total revenue: $\", round(revenue, 2))\n",
    "# print(\"\\n-------------------------------------------------------------------\\n\")"
   ]
  },
  {
   "cell_type": "code",
   "execution_count": 25,
   "id": "a0f19f52",
   "metadata": {},
   "outputs": [
    {
     "name": "stdout",
     "output_type": "stream",
     "text": [
      "Total orders:  1834\n"
     ]
    }
   ],
   "source": [
    "# Step - 15\n",
    "# How many orders were made in the period?\n",
    "\n",
    "total_orders = chipo['order_id'].nunique()\n",
    "print(\"Total orders: \", total_orders)\n",
    "# print(\"\\n-------------------------------------------------------------------\\n\")"
   ]
  },
  {
   "cell_type": "code",
   "execution_count": 26,
   "id": "5f9a2bba",
   "metadata": {},
   "outputs": [
    {
     "name": "stdout",
     "output_type": "stream",
     "text": [
      "Average revenue per order: $ 21.39\n"
     ]
    }
   ],
   "source": [
    "# Step - 16\n",
    "# What is the average revenue amount per order?\n",
    "\n",
    "avg_revenue_per_order = revenue / total_orders\n",
    "print(\"Average revenue per order: $\", round(avg_revenue_per_order, 2))\n",
    "# print(\"\\n-------------------------------------------------------------------\\n\")"
   ]
  },
  {
   "cell_type": "code",
   "execution_count": 27,
   "id": "da37b6a6",
   "metadata": {},
   "outputs": [
    {
     "name": "stdout",
     "output_type": "stream",
     "text": [
      "Total items sold:  50\n"
     ]
    }
   ],
   "source": [
    "# Step - 17\n",
    "# How many different items are sold?\n",
    "\n",
    "total_items_sold = chipo['item_name'].nunique()\n",
    "print(\"Total items sold: \", total_items_sold)\n",
    "# print(\"\\n-------------------------------------------------------------------\\n\")"
   ]
  },
  {
   "cell_type": "markdown",
   "id": "39519928",
   "metadata": {},
   "source": [
    "Question 6\n",
    "\n",
    "Create a line plot showing the number of marriages and divorces per capita in the\n",
    "U.S. between 1867 and 2014. Label both lines and show the legend. Don't forget to label your axes!"
   ]
  },
  {
   "cell_type": "code",
   "execution_count": 28,
   "id": "57ea639d",
   "metadata": {},
   "outputs": [
    {
     "data": {
      "image/png": "[encoded data removed]",
      "text/plain": [
       "<Figure size 640x480 with 1 Axes>"
      ]
     },
     "metadata": {},
     "output_type": "display_data"
    }
   ],
   "source": [
    "# importing the necessary!\n",
    "import pandas as pd\n",
    "import matplotlib.pyplot as plt\n",
    "\n",
    "# reading the file\n",
    "data = pd.read_csv('us-marriages-divorces-1867-2014.csv')\n",
    "\n",
    "# Assigning the values to the variables\n",
    "years = data['Year']\n",
    "marriages = data['Marriages_per_1000']\n",
    "divorces = data['Divorces_per_1000']\n",
    "\n",
    "\n",
    "# Ploting in the graph\n",
    "plt.plot(years, marriages, label='Marriages per capita')\n",
    "plt.plot(years, divorces, label='Divorces per capita')\n",
    "\n",
    "# Labeling\n",
    "plt.xlabel('Year')\n",
    "plt.ylabel('Number per capita')\n",
    "\n",
    "# Giving Title\n",
    "plt.title('Marriages and Divorces per Capita in the US (1867-2014)')\n",
    "\n",
    "# Showing the legends on the visual\n",
    "plt.legend()\n",
    "plt.show()"
   ]
  },
  {
   "cell_type": "markdown",
   "id": "f66f1076",
   "metadata": {},
   "source": [
    "Question 7\n",
    "\n",
    "Create a vertical bar chart comparing the number of marriages and divorces per capita in the U.S. between 1900, 1950, and 2000.\n",
    "Don't forget to label your axes!"
   ]
  },
  {
   "cell_type": "code",
   "execution_count": 30,
   "id": "04711246",
   "metadata": {},
   "outputs": [
    {
     "data": {
      "image/png": "[encoded data removed]",
      "text/plain": [
       "<Figure size 640x480 with 1 Axes>"
      ]
     },
     "metadata": {},
     "output_type": "display_data"
    }
   ],
   "source": [
    "# importing the necessary!\n",
    "import pandas as pd\n",
    "import matplotlib.pyplot as plt\n",
    "\n",
    "# reading the file\n",
    "data = pd.read_csv('us-marriages-divorces-1867-2014.csv')\n",
    "\n",
    "# Assigning the values to the variables\n",
    "relevant_data = data[data['Year'].isin([1900, 1950, 2000])]\n",
    "marriages = relevant_data['Marriages_per_1000']\n",
    "divorces = relevant_data['Divorces_per_1000']\n",
    "\n",
    "# Ploting in the graph\n",
    "plt.bar([1900, 1950, 2000], marriages, label='Marriages per capita')\n",
    "plt.bar([1900, 1950, 2000], divorces, label='Divorces per capita')\n",
    "\n",
    "# Labeling\n",
    "plt.xlabel('Year')\n",
    "plt.ylabel('Number per capita')\n",
    "\n",
    "# Giving Title\n",
    "plt.title('Marriages and Divorces per Capita in the US (1900, 1950, 2000)')\n",
    "\n",
    "# Showing the legends on the visual\n",
    "plt.legend()\n",
    "plt.show()"
   ]
  },
  {
   "cell_type": "markdown",
   "id": "3c12ba51",
   "metadata": {},
   "source": [
    "Question 8\n",
    "\n",
    "Create a horizontal bar chart that compares the deadliest actors in Hollywood.\n",
    "Sort the actors by their kill count and label each bar with the corresponding actor's name. Don't forget to label your axes!"
   ]
  },
  {
   "cell_type": "code",
   "execution_count": 32,
   "id": "a4f039e3",
   "metadata": {},
   "outputs": [
    {
     "data": {
      "image/png": "[encoded data removed]",
      "text/plain": [
       "<Figure size 640x480 with 1 Axes>"
      ]
     },
     "metadata": {},
     "output_type": "display_data"
    }
   ],
   "source": [
    "# importing the necessary!\n",
    "import pandas as pd\n",
    "import matplotlib.pyplot as plt\n",
    "\n",
    "# reading the file\n",
    "data = pd.read_csv('actor_kill_counts.csv')\n",
    "\n",
    "# Assigning the values to the variables\n",
    "sorted_data = data.sort_values('Count', ascending=True)\n",
    "actors = sorted_data['Actor']\n",
    "kill_counts = sorted_data['Count']\n",
    "\n",
    "plt.barh(actors, kill_counts)\n",
    "\n",
    "# Labeling\n",
    "plt.xlabel('Kill Count')\n",
    "plt.ylabel('Actor Name')\n",
    "\n",
    "# Giving Title\n",
    "plt.title('Deadliest Actors in Hollywood')\n",
    "plt.show()"
   ]
  },
  {
   "cell_type": "markdown",
   "id": "5e9dfcb6",
   "metadata": {},
   "source": [
    "Question 9\n",
    "\n",
    "Create a pie chart showing the fraction of all Roman Emperors that were assassinated.\n",
    "Make sure that the pie chart is an even circle, labels the categories, and shows the percentage breakdown of the categories."
   ]
  },
  {
   "cell_type": "code",
   "execution_count": 33,
   "id": "6fcd940d",
   "metadata": {},
   "outputs": [
    {
     "data": {
      "image/png": "[encoded data removed]",
      "text/plain": [
       "<Figure size 640x480 with 1 Axes>"
      ]
     },
     "metadata": {},
     "output_type": "display_data"
    }
   ],
   "source": [
    "# importing the necessary!\n",
    "import pandas as pd\n",
    "import matplotlib.pyplot as plt\n",
    "\n",
    "# reading the file\n",
    "data = pd.read_csv('roman-emperor-reigns.csv')\n",
    "\n",
    "num_assassinated = data['Cause_of_Death'].str.contains('Assassinated').sum()\n",
    "total_emperors = len(data)\n",
    "\n",
    "fraction_assassinated = num_assassinated / total_emperors # finding fraction of assassinated\n",
    "\n",
    "# Deleting the assassinated from the total to get fraction of non-assassinated\n",
    "fraction_not_assassinated = 1 - fraction_assassinated\n",
    "\n",
    "# Labeling\n",
    "labels = ['Assassinated', 'Not Assassinated']\n",
    "sizes = [fraction_assassinated, fraction_not_assassinated]\n",
    "explode = (0.1, 0)\n",
    "plt.pie(sizes, explode=explode, labels=labels, autopct='%1.1f%%', startangle=90)\n",
    "plt.axis('equal')\n",
    "\n",
    "# Giving Title\n",
    "plt.title('Fraction of Roman Emperors Assassinated')\n",
    "plt.show()"
   ]
  },
  {
   "cell_type": "markdown",
   "id": "774c2286",
   "metadata": {},
   "source": [
    "Question 10\n",
    "\n",
    "Create a scatter plot showing the relationship between the total revenue earned by arcades and the number of Computer Science PhDs awarded in the U.S. between 2000 and 2009.\n",
    "Don't forget to label your axes! Color each dot according to its year."
   ]
  },
  {
   "cell_type": "code",
   "execution_count": 34,
   "id": "b3be0253",
   "metadata": {},
   "outputs": [
    {
     "data": {
      "image/png": "[encoded data removed]",
      "text/plain": [
       "<Figure size 640x480 with 1 Axes>"
      ]
     },
     "metadata": {},
     "output_type": "display_data"
    }
   ],
   "source": [
    "import pandas as pd\n",
    "import matplotlib.pyplot as plt\n",
    "\n",
    "data = pd.read_csv('arcade-revenue-vs-cs-doctorates.csv')\n",
    "\n",
    "revenue = data['Total Arcade Revenue (billions)']\n",
    "phds = data['Computer Science Doctorates Awarded (US)']\n",
    "years = data['Year']\n",
    "\n",
    "fig, ax = plt.subplots()\n",
    "scatter = ax.scatter(phds, revenue, c=years, cmap='coolwarm')\n",
    "\n",
    "ax.set_xlabel('Number of Computer Science PhDs Awarded')\n",
    "ax.set_ylabel('Total Arcade Revenue (In Billions)')\n",
    "ax.set_title('Relationship between Total Arcade Revenue and Computer Science PhDs Awarded in the U.S. between 2000 and 2009')\n",
    "\n",
    "legend = ax.legend(*scatter.legend_elements(), loc=\"upper left\", title=\"Year\")\n",
    "ax.add_artist(legend)\n",
    "\n",
    "plt.show()"
   ]
  }
 ],
 "metadata": {
  "kernelspec": {
   "display_name": "Python 3 (ipykernel)",
   "language": "python",
   "name": "python3"
  },
  "language_info": {
   "codemirror_mode": {
    "name": "ipython",
    "version": 3
   },
   "file_extension": ".py",
   "mimetype": "text/x-python",
   "name": "python",
   "nbconvert_exporter": "python",
   "pygments_lexer": "ipython3",
   "version": "3.9.13"
  }
 },
 "nbformat": 4,
 "nbformat_minor": 5
}
